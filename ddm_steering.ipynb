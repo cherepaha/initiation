{
 "cells": [
  {
   "cell_type": "code",
   "execution_count": 7,
   "metadata": {},
   "outputs": [],
   "source": [
    "import numpy as np\n",
    "import pandas as pd\n",
    "import matplotlib.pyplot as plt\n",
    "import seaborn as sns\n",
    "import random\n",
    "import os \n",
    "from scipy import stats\n",
    "from pypet import Environment, Trajectory, cartesian_product\n",
    "import helper_functions as helper\n",
    "%matplotlib inline\n",
    "\n",
    "with open('data_path.txt', 'r') as f:\n",
    "    data_path = os.path.join(f.readline(), 'steering')\n",
    "\n",
    "hdf_path = os.path.join(data_path, 'HDF')\n",
    "    \n",
    "steering_data_path = os.path.join(data_path, 'MarkkulaEtAl_BiolCyb2018_DataWithIntermittentInterpretation.mat')\n",
    "steering_data = helper.loadmat(steering_data_path)\n",
    "\n",
    "sightpoint_filepath = os.path.join(data_path, 'PreCalculatedSightPointSignalData.mat')\n",
    "sightpoint_data = helper.loadmat(sightpoint_filepath)['SSightPointPreCalc']\n",
    "\n",
    "lk_data = steering_data['STasks'][0]\n",
    "lk_sightpoint_data = sightpoint_data.STasks[0]\n",
    "\n",
    "cd_data = steering_data['STasks'][1]\n",
    "cd_sightpoint_data = sightpoint_data.STasks[1]\n",
    "    \n",
    "passive_phases_lk = pd.read_csv(os.path.join(data_path, 'passive_phases_lk.csv'), index_col=None)\n",
    "passive_phases_cd = pd.read_csv(os.path.join(data_path, 'passive_phases_cd.csv'), index_col=None)"
   ]
  }
 ],
 "metadata": {
  "kernelspec": {
   "display_name": "Python 3",
   "language": "python",
   "name": "python3"
  },
  "language_info": {
   "codemirror_mode": {
    "name": "ipython",
    "version": 3
   },
   "file_extension": ".py",
   "mimetype": "text/x-python",
   "name": "python",
   "nbconvert_exporter": "python",
   "pygments_lexer": "ipython3",
   "version": "3.6.5"
  }
 },
 "nbformat": 4,
 "nbformat_minor": 2
}
