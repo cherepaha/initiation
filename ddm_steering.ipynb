{
 "cells": [
  {
   "cell_type": "code",
   "execution_count": 1,
   "metadata": {},
   "outputs": [],
   "source": [
    "import numpy as np\n",
    "import pandas as pd\n",
    "import matplotlib.pyplot as plt\n",
    "import seaborn as sns\n",
    "import random\n",
    "import os \n",
    "from scipy import stats\n",
    "from pypet import Environment, Trajectory, cartesian_product\n",
    "import helper_functions as helper\n",
    "%matplotlib inline\n",
    "\n",
    "with open('data_path.txt', 'r') as f:\n",
    "    data_path = os.path.join(f.readline(), 'steering')\n",
    "\n",
    "hdf_path = os.path.join(data_path, 'HDF')\n",
    "    \n",
    "steering_data_path = os.path.join(data_path, 'MarkkulaEtAl_BiolCyb2018_DataWithIntermittentInterpretation.mat')\n",
    "steering_data = helper.loadmat(steering_data_path)\n",
    "\n",
    "sightpoint_filepath = os.path.join(data_path, 'PreCalculatedSightPointSignalData.mat')\n",
    "sightpoint_data = helper.loadmat(sightpoint_filepath)['SSightPointPreCalc']\n",
    "\n",
    "lk_data = steering_data['STasks'][0]\n",
    "lk_sightpoint_data = sightpoint_data.STasks[0]\n",
    "\n",
    "passive_phases_lk = pd.read_csv(os.path.join(data_path, 'passive_phases_lk.csv'), index_col=None)"
   ]
  },
  {
   "cell_type": "code",
   "execution_count": 2,
   "metadata": {},
   "outputs": [],
   "source": [
    "def interp_p(t_exp, p_exp, vectorized=False):\n",
    "    # here we take the last 30% of each trial and fit a linear function \n",
    "    # to p dynamics to be able to extrapolate beyond observed action point\n",
    "    # caution: this function is not vectorized because it's going to be used in step-by-step numerical simulations\n",
    "    # so plotting won't work\n",
    "    lower_bound = max(int(len(t_exp)*0.3), 2)\n",
    "    slope, intercept, _, _, _ = sp.stats.linregress(x=t_exp[-lower_bound:], y=p_exp[-lower_bound:])\n",
    "    \n",
    "    if not vectorized:\n",
    "        return lambda t: np.interp(t, t_exp, p_exp) if t<t_exp.max() else intercept + t*slope\n",
    "    else:\n",
    "        return lambda t: np.concatenate([np.interp(t[t<t_exp.max()], t_exp, p_exp), \n",
    "                                     intercept + t[t>=t_exp.max()]*slope])"
   ]
  },
  {
   "cell_type": "code",
   "execution_count": 3,
   "metadata": {},
   "outputs": [
    {
     "ename": "NameError",
     "evalue": "name 'p_dynamics_lk' is not defined",
     "output_type": "error",
     "traceback": [
      "\u001b[1;31m---------------------------------------------------------------------------\u001b[0m",
      "\u001b[1;31mNameError\u001b[0m                                 Traceback (most recent call last)",
      "\u001b[1;32m<ipython-input-3-d74c18f8c040>\u001b[0m in \u001b[0;36m<module>\u001b[1;34m\u001b[0m\n\u001b[1;32m----> 1\u001b[1;33m \u001b[0mp_exp\u001b[0m \u001b[1;33m=\u001b[0m \u001b[0mp_dynamics_lk\u001b[0m\u001b[1;33m.\u001b[0m\u001b[0mloc\u001b[0m\u001b[1;33m[\u001b[0m\u001b[1;36m1\u001b[0m\u001b[1;33m,\u001b[0m\u001b[1;36m1\u001b[0m\u001b[1;33m,\u001b[0m\u001b[1;36m1\u001b[0m\u001b[1;33m]\u001b[0m\u001b[1;33m\u001b[0m\u001b[1;33m\u001b[0m\u001b[0m\n\u001b[0m\u001b[0;32m      2\u001b[0m \u001b[0mt_exp\u001b[0m \u001b[1;33m=\u001b[0m \u001b[0mnp\u001b[0m\u001b[1;33m.\u001b[0m\u001b[0mlinspace\u001b[0m\u001b[1;33m(\u001b[0m\u001b[1;36m0\u001b[0m\u001b[1;33m,\u001b[0m \u001b[0mlen\u001b[0m\u001b[1;33m(\u001b[0m\u001b[0mp_exp\u001b[0m\u001b[1;33m)\u001b[0m\u001b[1;33m/\u001b[0m\u001b[1;36m60\u001b[0m\u001b[1;33m,\u001b[0m \u001b[0mlen\u001b[0m\u001b[1;33m(\u001b[0m\u001b[0mp_exp\u001b[0m\u001b[1;33m)\u001b[0m\u001b[1;33m)\u001b[0m\u001b[1;33m\u001b[0m\u001b[1;33m\u001b[0m\u001b[0m\n\u001b[0;32m      3\u001b[0m \u001b[0mt_extra\u001b[0m \u001b[1;33m=\u001b[0m \u001b[0mnp\u001b[0m\u001b[1;33m.\u001b[0m\u001b[0mlinspace\u001b[0m\u001b[1;33m(\u001b[0m\u001b[0mlen\u001b[0m\u001b[1;33m(\u001b[0m\u001b[0mp_exp\u001b[0m\u001b[1;33m)\u001b[0m\u001b[1;33m/\u001b[0m\u001b[1;36m60\u001b[0m\u001b[1;33m,\u001b[0m \u001b[1;36m2\u001b[0m\u001b[1;33m*\u001b[0m\u001b[0mlen\u001b[0m\u001b[1;33m(\u001b[0m\u001b[0mp_exp\u001b[0m\u001b[1;33m)\u001b[0m\u001b[1;33m/\u001b[0m\u001b[1;36m60\u001b[0m\u001b[1;33m,\u001b[0m \u001b[0mlen\u001b[0m\u001b[1;33m(\u001b[0m\u001b[0mp_exp\u001b[0m\u001b[1;33m)\u001b[0m\u001b[1;33m)\u001b[0m\u001b[1;33m\u001b[0m\u001b[1;33m\u001b[0m\u001b[0m\n\u001b[0;32m      4\u001b[0m \u001b[1;33m\u001b[0m\u001b[0m\n\u001b[0;32m      5\u001b[0m \u001b[0mp_extra\u001b[0m \u001b[1;33m=\u001b[0m \u001b[0minterp_p\u001b[0m\u001b[1;33m(\u001b[0m\u001b[0mt_exp\u001b[0m\u001b[1;33m,\u001b[0m \u001b[0mp_exp\u001b[0m\u001b[1;33m,\u001b[0m \u001b[0mvectorized\u001b[0m\u001b[1;33m=\u001b[0m\u001b[1;32mTrue\u001b[0m\u001b[1;33m)\u001b[0m\u001b[1;33m\u001b[0m\u001b[1;33m\u001b[0m\u001b[0m\n",
      "\u001b[1;31mNameError\u001b[0m: name 'p_dynamics_lk' is not defined"
     ]
    }
   ],
   "source": [
    "p_exp = p_dynamics_lk.loc[1,1,1]\n",
    "t_exp = np.linspace(0, len(p_exp)/60, len(p_exp))\n",
    "t_extra = np.linspace(len(p_exp)/60, 2*len(p_exp)/60, len(p_exp))\n",
    "\n",
    "p_extra = interp_p(t_exp, p_exp, vectorized=True)\n",
    "\n",
    "plt.plot(t_exp, p_exp)\n",
    "plt.plot(t_extra, p_extra(t_extra))"
   ]
  }
 ],
 "metadata": {
  "kernelspec": {
   "display_name": "Python 3",
   "language": "python",
   "name": "python3"
  },
  "language_info": {
   "codemirror_mode": {
    "name": "ipython",
    "version": 3
   },
   "file_extension": ".py",
   "mimetype": "text/x-python",
   "name": "python",
   "nbconvert_exporter": "python",
   "pygments_lexer": "ipython3",
   "version": "3.6.7"
  }
 },
 "nbformat": 4,
 "nbformat_minor": 2
}
